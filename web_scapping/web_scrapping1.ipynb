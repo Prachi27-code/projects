{
 "cells": [
  {
   "cell_type": "code",
   "execution_count": null,
   "id": "fleet-sapphire",
   "metadata": {},
   "outputs": [],
   "source": [
    "from bs4 import BeautifulSoup\n",
    "\n",
    "from urllib.request import urlopen\n",
    "\n",
    "url = \"http://quotes.toscrape.com/\"\n",
    "html = urlopen(url)\n",
    "\n",
    "soup = BeautifulSoup(html, 'html.parser')\n",
    "type(soup)\n",
    "# extracting all the data where class is tages\n",
    "all_links = soup.findAll('div', {'class': 'tags'})\n",
    "str_cells = str(all_links)\n",
    "cleartext = BeautifulSoup(str_cells, 'html.parser').get_text()\n",
    "\n",
    "print(cleartext)\n"
   ]
  }
 ],
 "metadata": {
  "kernelspec": {
   "display_name": "Python 3",
   "language": "python",
   "name": "python3"
  },
  "language_info": {
   "codemirror_mode": {
    "name": "ipython",
    "version": 3
   },
   "file_extension": ".py",
   "mimetype": "text/x-python",
   "name": "python",
   "nbconvert_exporter": "python",
   "pygments_lexer": "ipython3",
   "version": "3.6.9"
  }
 },
 "nbformat": 4,
 "nbformat_minor": 5
}
