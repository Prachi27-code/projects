{
 "cells": [
  {
   "cell_type": "code",
   "execution_count": null,
   "id": "fitting-intensity",
   "metadata": {},
   "outputs": [],
   "source": [
    "# Extracting data using api\n",
    "import  requests as r\n",
    "from secret import key\n",
    "\n",
    "city = str(input(\"Enter the city name\"))\n",
    "url = \"api.openweathermap.org/data/2.5/weather?q={city name}&appid={API key}\"\n",
    "\n",
    "response = r.get(url)\n",
    "print(response.status_code)\n",
    "print(response.text)\n",
    "print(response.json())"
   ]
  }
 ],
 "metadata": {
  "kernelspec": {
   "display_name": "Python 3",
   "language": "python",
   "name": "python3"
  },
  "language_info": {
   "codemirror_mode": {
    "name": "ipython",
    "version": 3
   },
   "file_extension": ".py",
   "mimetype": "text/x-python",
   "name": "python",
   "nbconvert_exporter": "python",
   "pygments_lexer": "ipython3",
   "version": "3.6.9"
  }
 },
 "nbformat": 4,
 "nbformat_minor": 5
}
