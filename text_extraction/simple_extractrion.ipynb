{
 "cells": [
  {
   "cell_type": "code",
   "execution_count": 8,
   "id": "neutral-masters",
   "metadata": {},
   "outputs": [],
   "source": [
    "import pytesseract\n",
    "from PIL import Image\n",
    "\n",
    "im = Image.open(\"/home/webwerks/Desktop/Data_Extraction/image.png\")\n",
    "text = pytesseract.image_to_string(im, lang=\"eng\")"
   ]
  },
  {
   "cell_type": "code",
   "execution_count": 9,
   "id": "irish-finance",
   "metadata": {},
   "outputs": [
    {
     "name": "stdout",
     "output_type": "stream",
     "text": [
      "IDENTIFICATION CARD\n",
      "\n",
      "Name Geoff Sample\n",
      "D.O.B.: 12/04/1985\n",
      "IDNo: 123456789\n",
      "Issued: January 2014\n",
      "Expires: December 2016)\n",
      "\n",
      " \n",
      "\f",
      "\n"
     ]
    }
   ],
   "source": [
    "print(text)"
   ]
  },
  {
   "cell_type": "code",
   "execution_count": 14,
   "id": "ceramic-equilibrium",
   "metadata": {},
   "outputs": [],
   "source": [
    "file = open(\"recognized5.txt\", \"a\")"
   ]
  },
  {
   "cell_type": "code",
   "execution_count": 15,
   "id": "residential-teacher",
   "metadata": {},
   "outputs": [],
   "source": [
    "file.write(text)\n",
    "file.write(\"\\n\")\n",
    "    \n",
    "   \n",
    "file.close()"
   ]
  },
  {
   "cell_type": "code",
   "execution_count": null,
   "id": "defined-creativity",
   "metadata": {},
   "outputs": [],
   "source": []
  }
 ],
 "metadata": {
  "kernelspec": {
   "display_name": "Python 3",
   "language": "python",
   "name": "python3"
  },
  "language_info": {
   "codemirror_mode": {
    "name": "ipython",
    "version": 3
   },
   "file_extension": ".py",
   "mimetype": "text/x-python",
   "name": "python",
   "nbconvert_exporter": "python",
   "pygments_lexer": "ipython3",
   "version": "3.6.9"
  }
 },
 "nbformat": 4,
 "nbformat_minor": 5
}
