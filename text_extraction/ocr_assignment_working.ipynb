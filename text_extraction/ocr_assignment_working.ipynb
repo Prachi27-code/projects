{
 "cells": [
  {
   "cell_type": "code",
   "execution_count": 1,
   "id": "female-feelings",
   "metadata": {},
   "outputs": [
    {
     "ename": "NotADirectoryError",
     "evalue": "[Errno 20] Not a directory: '/home/webwerks/Desktop/OCR/National_IDs_Images_Front_100-1/images45/CustNID_18083110026.jpg'",
     "output_type": "error",
     "traceback": [
      "\u001b[0;31m---------------------------------------------------------------------------\u001b[0m",
      "\u001b[0;31mNotADirectoryError\u001b[0m                        Traceback (most recent call last)",
      "\u001b[0;32m<ipython-input-1-3281a71206cd>\u001b[0m in \u001b[0;36m<module>\u001b[0;34m\u001b[0m\n\u001b[1;32m     45\u001b[0m \u001b[0;34m\u001b[0m\u001b[0m\n\u001b[1;32m     46\u001b[0m \u001b[0;32mif\u001b[0m \u001b[0m__name__\u001b[0m \u001b[0;34m==\u001b[0m \u001b[0;34m'__main__'\u001b[0m\u001b[0;34m:\u001b[0m\u001b[0;34m\u001b[0m\u001b[0;34m\u001b[0m\u001b[0m\n\u001b[0;32m---> 47\u001b[0;31m     \u001b[0mmain\u001b[0m\u001b[0;34m(\u001b[0m\u001b[0;34m)\u001b[0m\u001b[0;34m\u001b[0m\u001b[0;34m\u001b[0m\u001b[0m\n\u001b[0m",
      "\u001b[0;32m<ipython-input-1-3281a71206cd>\u001b[0m in \u001b[0;36mmain\u001b[0;34m()\u001b[0m\n\u001b[1;32m     11\u001b[0m \u001b[0;34m\u001b[0m\u001b[0m\n\u001b[1;32m     12\u001b[0m     \u001b[0;31m# iterating the images inside the folder\u001b[0m\u001b[0;34m\u001b[0m\u001b[0;34m\u001b[0m\u001b[0;34m\u001b[0m\u001b[0m\n\u001b[0;32m---> 13\u001b[0;31m     \u001b[0;32mfor\u001b[0m \u001b[0mimageName\u001b[0m \u001b[0;32min\u001b[0m \u001b[0mos\u001b[0m\u001b[0;34m.\u001b[0m\u001b[0mlistdir\u001b[0m\u001b[0;34m(\u001b[0m\u001b[0mpath\u001b[0m\u001b[0;34m)\u001b[0m\u001b[0;34m:\u001b[0m\u001b[0;34m\u001b[0m\u001b[0;34m\u001b[0m\u001b[0m\n\u001b[0m\u001b[1;32m     14\u001b[0m         \u001b[0minputPath\u001b[0m \u001b[0;34m=\u001b[0m \u001b[0mos\u001b[0m\u001b[0;34m.\u001b[0m\u001b[0mpath\u001b[0m\u001b[0;34m.\u001b[0m\u001b[0mjoin\u001b[0m\u001b[0;34m(\u001b[0m\u001b[0mpath\u001b[0m\u001b[0;34m,\u001b[0m \u001b[0mimageName\u001b[0m\u001b[0;34m)\u001b[0m\u001b[0;34m\u001b[0m\u001b[0;34m\u001b[0m\u001b[0m\n\u001b[1;32m     15\u001b[0m         \u001b[0mimg\u001b[0m \u001b[0;34m=\u001b[0m \u001b[0mcv2\u001b[0m\u001b[0;34m.\u001b[0m\u001b[0mimread\u001b[0m\u001b[0;34m(\u001b[0m\u001b[0minputPath\u001b[0m\u001b[0;34m)\u001b[0m\u001b[0;34m\u001b[0m\u001b[0;34m\u001b[0m\u001b[0m\n",
      "\u001b[0;31mNotADirectoryError\u001b[0m: [Errno 20] Not a directory: '/home/webwerks/Desktop/OCR/National_IDs_Images_Front_100-1/images45/CustNID_18083110026.jpg'"
     ]
    }
   ],
   "source": [
    "from PIL import Image\n",
    "import pytesseract as pt\n",
    "import os\n",
    "import cv2\n",
    "\n",
    "def main():\n",
    "    # path for the folder for getting the raw images\n",
    "    path =\"/home/webwerks/Desktop/OCR/National_IDs_Images_Front_100-1/images45/CustNID_18083110026.jpg\"\n",
    "    # link to the file in which output needs to be kept\n",
    "    fullTempPath =\"/home/webwerks/Desktop/Data_Extraction/outpt.txt\"\n",
    "\n",
    "    # iterating the images inside the folder\n",
    "    for imageName in os.listdir(path):\n",
    "        inputPath = os.path.join(path, imageName)\n",
    "        img = cv2.imread(inputPath)\n",
    "        gray = cv2.cvtColor(img, cv2.COLOR_BGR2GRAY)\n",
    "\n",
    "        thresh1 = cv2.adaptiveThreshold(gray, 255, cv2.ADAPTIVE_THRESH_GAUSSIAN_C, cv2.THRESH_BINARY, 85, 11)\n",
    "\n",
    "\n",
    "\n",
    "\n",
    "        # applying ocr using pytesseract for python\n",
    "        text = pt.image_to_string(thresh1, lang='ara')\n",
    "\n",
    "        # saving the text for appending it to the output.txt file\n",
    "        # a + parameter used for creating the file if not present\n",
    "        # and if present then append the text content\n",
    "        file1 = open(fullTempPath, \"a+\")\n",
    "\n",
    "        # providing the name of the image\n",
    "        file1.write(imageName+\"\\n\")\n",
    "\n",
    "        # providing the content in the image\n",
    "        file1.write(text+\"\\n\")\n",
    "        file1.close()\n",
    "    \n",
    "        \n",
    "\n",
    "    # for printing the output file\n",
    "    file2 = open(fullTempPath, 'r')\n",
    "    print(file2.read())\n",
    "    file2.close()\n",
    "\n",
    "\n",
    "if __name__ == '__main__':\n",
    "    main()\n"
   ]
  },
  {
   "cell_type": "code",
   "execution_count": null,
   "id": "knowing-vacation",
   "metadata": {},
   "outputs": [],
   "source": []
  }
 ],
 "metadata": {
  "kernelspec": {
   "display_name": "Python 3",
   "language": "python",
   "name": "python3"
  },
  "language_info": {
   "codemirror_mode": {
    "name": "ipython",
    "version": 3
   },
   "file_extension": ".py",
   "mimetype": "text/x-python",
   "name": "python",
   "nbconvert_exporter": "python",
   "pygments_lexer": "ipython3",
   "version": "3.6.9"
  }
 },
 "nbformat": 4,
 "nbformat_minor": 5
}
